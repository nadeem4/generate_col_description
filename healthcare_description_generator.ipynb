{
  "cells": [
    {
      "cell_type": "code",
      "execution_count": null,
      "id": "erp3GdYy4mGR",
      "metadata": {
        "colab": {
          "base_uri": "https://localhost:8080/"
        },
        "id": "erp3GdYy4mGR",
        "outputId": "2a918f87-910c-48c9-cbfe-3137959224c8"
      },
      "outputs": [],
      "source": [
        "%pip install datasets"
      ]
    },
    {
      "cell_type": "code",
      "execution_count": null,
      "id": "lVcRU1EN55BD",
      "metadata": {
        "colab": {
          "base_uri": "https://localhost:8080/"
        },
        "id": "lVcRU1EN55BD",
        "outputId": "4b3ef186-5e94-424a-c451-2edbd429b17e"
      },
      "outputs": [],
      "source": [
        "%pip install sacremoses"
      ]
    },
    {
      "cell_type": "code",
      "execution_count": null,
      "id": "dn6lcuWW4RYh",
      "metadata": {
        "id": "dn6lcuWW4RYh"
      },
      "outputs": [],
      "source": [
        "# Import necessary libraries\n",
        "import pandas as pd\n",
        "import torch\n",
        "import os\n",
        "from transformers import AutoTokenizer, AutoModelForCausalLM, Trainer, TrainingArguments, pipeline\n",
        "from datasets import load_dataset\n",
        "from transformers import DataCollatorForLanguageModeling\n"
      ]
    },
    {
      "cell_type": "code",
      "execution_count": null,
      "id": "Mw_H0xsO4RYk",
      "metadata": {
        "id": "Mw_H0xsO4RYk"
      },
      "outputs": [],
      "source": [
        "# Setting up configuration variables for the project\n",
        "ENABLE_FINE_TUNING = False  # Set to True to fine-tune\n",
        "FINE_TUNING_DATA_PATH = '/content/healthcare_fine_tuning_data.txt'  # Path in Colab\n",
        "FINE_TUNED_MODEL_DIR = '/content/fine_tuned_healthcare_model'  # Path in Colab\n",
        "model_name = 'microsoft/BioGPT-Large'  # Use BioGPT model for healthcare\n",
        "INPUT_FILE_PATH = '/content/input.csv'\n",
        "OUTPUT_FILE_PATH = '/content/output.csv'"
      ]
    },
    {
      "cell_type": "code",
      "execution_count": null,
      "id": "jJnI3YF14RYk",
      "metadata": {
        "id": "jJnI3YF14RYk"
      },
      "outputs": [],
      "source": [
        "# Fine-tuning function\n",
        "def fine_tune_model():\n",
        "    if ENABLE_FINE_TUNING:\n",
        "        tokenizer = AutoTokenizer.from_pretrained(model_name)\n",
        "        model = AutoModelForCausalLM.from_pretrained(model_name)\n",
        "\n",
        "        datasets = load_dataset('text', data_files={'train': FINE_TUNING_DATA_PATH})\n",
        "        tokenized_datasets = datasets.map(\n",
        "            lambda examples: tokenizer(examples['text'], truncation=True, max_length=512),\n",
        "            batched=True, num_proc=4, remove_columns=['text']\n",
        "        )\n",
        "\n",
        "        data_collator = DataCollatorForLanguageModeling(tokenizer=tokenizer, mlm=False)\n",
        "        training_args = TrainingArguments(\n",
        "            output_dir=FINE_TUNED_MODEL_DIR,\n",
        "            overwrite_output_dir=True,\n",
        "            num_train_epochs=3,\n",
        "            per_device_train_batch_size=1,\n",
        "            save_steps=500,\n",
        "            save_total_limit=2,\n",
        "            prediction_loss_only=True,\n",
        "            logging_steps=100,\n",
        "        )\n",
        "\n",
        "        trainer = Trainer(\n",
        "            model=model,\n",
        "            args=training_args,\n",
        "            data_collator=data_collator,\n",
        "            train_dataset=tokenized_datasets['train'],\n",
        "        )\n",
        "        trainer.train()\n",
        "        trainer.save_model(FINE_TUNED_MODEL_DIR)\n",
        "        tokenizer.save_pretrained(FINE_TUNED_MODEL_DIR)\n"
      ]
    },
    {
      "cell_type": "code",
      "execution_count": null,
      "id": "ePDha_ax4RYk",
      "metadata": {
        "id": "ePDha_ax4RYk"
      },
      "outputs": [],
      "source": [
        "# Model loading and generation pipeline setup\n",
        "def load_model():\n",
        "    if not os.path.exists(FINE_TUNED_MODEL_DIR) or not os.path.isfile(os.path.join(FINE_TUNED_MODEL_DIR, 'config.json')):\n",
        "        # If the fine-tuned model doesn't exist, load the pre-trained model and save it properly\n",
        "        print(\"Loading pre-trained model...\")\n",
        "        os.makedirs(FINE_TUNED_MODEL_DIR, exist_ok=True)\n",
        "        tokenizer = AutoTokenizer.from_pretrained(model_name)\n",
        "        model = AutoModelForCausalLM.from_pretrained(model_name)\n",
        "\n",
        "        # Save the pre-trained model to the directory\n",
        "        tokenizer.save_pretrained(FINE_TUNED_MODEL_DIR)\n",
        "        model.save_pretrained(FINE_TUNED_MODEL_DIR)\n",
        "        model.config.to_json_file(os.path.join(FINE_TUNED_MODEL_DIR, 'config.json'))\n",
        "\n",
        "    # Load the generator pipeline\n",
        "    generator = pipeline('text-generation', model=FINE_TUNED_MODEL_DIR, tokenizer=FINE_TUNED_MODEL_DIR, device=-1)  # Change device to 0 if using GPU\n",
        "    return generator"
      ]
    },
    {
      "cell_type": "code",
      "execution_count": null,
      "id": "5PRLnZcNC05r",
      "metadata": {
        "id": "5PRLnZcNC05r"
      },
      "outputs": [],
      "source": [
        "# Cell 5: Function to clean up generated descriptions\n",
        "def clean_generated_description(text):\n",
        "    # Remove special tokens, new lines, and unwanted symbols\n",
        "    text = text.replace('<|endoftext|>', '').strip()\n",
        "\n",
        "    # Stop generation at the first sentence (period)\n",
        "    if '.' in text:\n",
        "        text = text.split('.')[0] + '.'\n",
        "\n",
        "    # Remove any unwanted characters that may appear\n",
        "    unwanted_tokens = ['<', '>', '[', ']', '/', '▃', '≤', '≥']\n",
        "    for token in unwanted_tokens:\n",
        "        text = text.replace(token, '')\n",
        "\n",
        "    # Remove consecutive spaces\n",
        "    text = ' '.join(text.split())\n",
        "\n",
        "    return text"
      ]
    },
    {
      "cell_type": "code",
      "execution_count": null,
      "id": "HAaoo52D4RYl",
      "metadata": {
        "id": "HAaoo52D4RYl"
      },
      "outputs": [],
      "source": [
        "# Function to generate description for healthcare dataset\n",
        "def generate_description(generator, table_name, column_name):\n",
        "    prompt = f\"\"\"Generate a brief description for the healthcare database column.\n",
        "\n",
        "Examples:\n",
        "Table: patient_records\n",
        "Column: heart_rate\n",
        "Description: The patient's heart rate measured in beats per minute.\n",
        "\n",
        "Table: lab_results\n",
        "Column: hba1c_level\n",
        "Description: The patient's HbA1c level indicating average blood sugar over the past 3 months.\n",
        "\n",
        "Table: medications\n",
        "Column: dosage\n",
        "Description: The prescribed dosage of the medication.\n",
        "\n",
        "Table: {table_name}\n",
        "Column: {column_name}\n",
        "Description:\"\"\"\n",
        "    outputs = generator(\n",
        "        prompt,\n",
        "        max_length=150,\n",
        "        num_return_sequences=1,\n",
        "        no_repeat_ngram_size=2,\n",
        "        early_stopping=True\n",
        "    )\n",
        "    generated_text = outputs[0]['generated_text']\n",
        "\n",
        "    # Clean up the generated description\n",
        "    description = clean_generated_description(generated_text.replace(prompt, '').strip())\n",
        "    return description\n"
      ]
    },
    {
      "cell_type": "code",
      "execution_count": null,
      "id": "Claund934RYl",
      "metadata": {
        "id": "Claund934RYl"
      },
      "outputs": [],
      "source": [
        "# Main function to process the input CSV file\n",
        "def process_input_csv():\n",
        "    df = pd.read_csv('/content/input.csv')  # Update path for Colab\n",
        "    generator = load_model()\n",
        "    df['description'] = df.apply(lambda row: generate_description(generator, row['table_name'], row['column_name']), axis=1)\n",
        "    df.to_csv('/content/output.csv', index=False)\n",
        "    print('Descriptions generated and saved to output.csv')\n"
      ]
    },
    {
      "cell_type": "code",
      "execution_count": null,
      "id": "aT4oa1sh4RYl",
      "metadata": {
        "colab": {
          "base_uri": "https://localhost:8080/",
          "height": 121,
          "referenced_widgets": [
            "d834a9e4286f41a382a2c19e18190c97",
            "a2aea1558a6a4c3f9e4d38181e13ed0d",
            "33e5f1b21d8041c9b4204076cc83c14b",
            "5621abf114074fb7a0a8176d4fad8d9d",
            "04d935039c3e4fc49433fdb81b58e988",
            "870c925fde5445aaaaa00eaf0a291a8d",
            "c03a6420d63e408fac8d0e92cc28c8e7",
            "b53d179e3fdb4ceda8bad264e0c81db8",
            "8f92c61d02d14bc687e1ba55184a81ff",
            "2a95f8dce7c3464192ed9889e0ac9c8a",
            "86053e22ac2e4875ae844b2dad1507e8"
          ]
        },
        "id": "aT4oa1sh4RYl",
        "outputId": "f9358d66-7f71-4c63-ba33-a96902d43a5b"
      },
      "outputs": [],
      "source": [
        "# Call the process function\n",
        "process_input_csv()\n"
      ]
    }
  ],
  "metadata": {
    "accelerator": "GPU",
    "colab": {
      "gpuType": "T4",
      "provenance": []
    },
    "kernelspec": {
      "display_name": "Python 3",
      "name": "python3"
    },
    "language_info": {
      "codemirror_mode": {
        "name": "ipython",
        "version": 3
      },
      "file_extension": ".py",
      "mimetype": "text/x-python",
      "name": "python",
      "nbconvert_exporter": "python",
      "version": "3.8.5"
    },
    "widgets": {
      "application/vnd.jupyter.widget-state+json": {
        "04d935039c3e4fc49433fdb81b58e988": {
          "model_module": "@jupyter-widgets/base",
          "model_module_version": "1.2.0",
          "model_name": "LayoutModel",
          "state": {
            "_model_module": "@jupyter-widgets/base",
            "_model_module_version": "1.2.0",
            "_model_name": "LayoutModel",
            "_view_count": null,
            "_view_module": "@jupyter-widgets/base",
            "_view_module_version": "1.2.0",
            "_view_name": "LayoutView",
            "align_content": null,
            "align_items": null,
            "align_self": null,
            "border": null,
            "bottom": null,
            "display": null,
            "flex": null,
            "flex_flow": null,
            "grid_area": null,
            "grid_auto_columns": null,
            "grid_auto_flow": null,
            "grid_auto_rows": null,
            "grid_column": null,
            "grid_gap": null,
            "grid_row": null,
            "grid_template_areas": null,
            "grid_template_columns": null,
            "grid_template_rows": null,
            "height": null,
            "justify_content": null,
            "justify_items": null,
            "left": null,
            "margin": null,
            "max_height": null,
            "max_width": null,
            "min_height": null,
            "min_width": null,
            "object_fit": null,
            "object_position": null,
            "order": null,
            "overflow": null,
            "overflow_x": null,
            "overflow_y": null,
            "padding": null,
            "right": null,
            "top": null,
            "visibility": null,
            "width": null
          }
        },
        "2a95f8dce7c3464192ed9889e0ac9c8a": {
          "model_module": "@jupyter-widgets/base",
          "model_module_version": "1.2.0",
          "model_name": "LayoutModel",
          "state": {
            "_model_module": "@jupyter-widgets/base",
            "_model_module_version": "1.2.0",
            "_model_name": "LayoutModel",
            "_view_count": null,
            "_view_module": "@jupyter-widgets/base",
            "_view_module_version": "1.2.0",
            "_view_name": "LayoutView",
            "align_content": null,
            "align_items": null,
            "align_self": null,
            "border": null,
            "bottom": null,
            "display": null,
            "flex": null,
            "flex_flow": null,
            "grid_area": null,
            "grid_auto_columns": null,
            "grid_auto_flow": null,
            "grid_auto_rows": null,
            "grid_column": null,
            "grid_gap": null,
            "grid_row": null,
            "grid_template_areas": null,
            "grid_template_columns": null,
            "grid_template_rows": null,
            "height": null,
            "justify_content": null,
            "justify_items": null,
            "left": null,
            "margin": null,
            "max_height": null,
            "max_width": null,
            "min_height": null,
            "min_width": null,
            "object_fit": null,
            "object_position": null,
            "order": null,
            "overflow": null,
            "overflow_x": null,
            "overflow_y": null,
            "padding": null,
            "right": null,
            "top": null,
            "visibility": null,
            "width": null
          }
        },
        "33e5f1b21d8041c9b4204076cc83c14b": {
          "model_module": "@jupyter-widgets/controls",
          "model_module_version": "1.5.0",
          "model_name": "FloatProgressModel",
          "state": {
            "_dom_classes": [],
            "_model_module": "@jupyter-widgets/controls",
            "_model_module_version": "1.5.0",
            "_model_name": "FloatProgressModel",
            "_view_count": null,
            "_view_module": "@jupyter-widgets/controls",
            "_view_module_version": "1.5.0",
            "_view_name": "ProgressView",
            "bar_style": "success",
            "description": "",
            "description_tooltip": null,
            "layout": "IPY_MODEL_b53d179e3fdb4ceda8bad264e0c81db8",
            "max": 2,
            "min": 0,
            "orientation": "horizontal",
            "style": "IPY_MODEL_8f92c61d02d14bc687e1ba55184a81ff",
            "value": 2
          }
        },
        "5621abf114074fb7a0a8176d4fad8d9d": {
          "model_module": "@jupyter-widgets/controls",
          "model_module_version": "1.5.0",
          "model_name": "HTMLModel",
          "state": {
            "_dom_classes": [],
            "_model_module": "@jupyter-widgets/controls",
            "_model_module_version": "1.5.0",
            "_model_name": "HTMLModel",
            "_view_count": null,
            "_view_module": "@jupyter-widgets/controls",
            "_view_module_version": "1.5.0",
            "_view_name": "HTMLView",
            "description": "",
            "description_tooltip": null,
            "layout": "IPY_MODEL_2a95f8dce7c3464192ed9889e0ac9c8a",
            "placeholder": "​",
            "style": "IPY_MODEL_86053e22ac2e4875ae844b2dad1507e8",
            "value": " 2/2 [00:01&lt;00:00,  2.02it/s]"
          }
        },
        "86053e22ac2e4875ae844b2dad1507e8": {
          "model_module": "@jupyter-widgets/controls",
          "model_module_version": "1.5.0",
          "model_name": "DescriptionStyleModel",
          "state": {
            "_model_module": "@jupyter-widgets/controls",
            "_model_module_version": "1.5.0",
            "_model_name": "DescriptionStyleModel",
            "_view_count": null,
            "_view_module": "@jupyter-widgets/base",
            "_view_module_version": "1.2.0",
            "_view_name": "StyleView",
            "description_width": ""
          }
        },
        "870c925fde5445aaaaa00eaf0a291a8d": {
          "model_module": "@jupyter-widgets/base",
          "model_module_version": "1.2.0",
          "model_name": "LayoutModel",
          "state": {
            "_model_module": "@jupyter-widgets/base",
            "_model_module_version": "1.2.0",
            "_model_name": "LayoutModel",
            "_view_count": null,
            "_view_module": "@jupyter-widgets/base",
            "_view_module_version": "1.2.0",
            "_view_name": "LayoutView",
            "align_content": null,
            "align_items": null,
            "align_self": null,
            "border": null,
            "bottom": null,
            "display": null,
            "flex": null,
            "flex_flow": null,
            "grid_area": null,
            "grid_auto_columns": null,
            "grid_auto_flow": null,
            "grid_auto_rows": null,
            "grid_column": null,
            "grid_gap": null,
            "grid_row": null,
            "grid_template_areas": null,
            "grid_template_columns": null,
            "grid_template_rows": null,
            "height": null,
            "justify_content": null,
            "justify_items": null,
            "left": null,
            "margin": null,
            "max_height": null,
            "max_width": null,
            "min_height": null,
            "min_width": null,
            "object_fit": null,
            "object_position": null,
            "order": null,
            "overflow": null,
            "overflow_x": null,
            "overflow_y": null,
            "padding": null,
            "right": null,
            "top": null,
            "visibility": null,
            "width": null
          }
        },
        "8f92c61d02d14bc687e1ba55184a81ff": {
          "model_module": "@jupyter-widgets/controls",
          "model_module_version": "1.5.0",
          "model_name": "ProgressStyleModel",
          "state": {
            "_model_module": "@jupyter-widgets/controls",
            "_model_module_version": "1.5.0",
            "_model_name": "ProgressStyleModel",
            "_view_count": null,
            "_view_module": "@jupyter-widgets/base",
            "_view_module_version": "1.2.0",
            "_view_name": "StyleView",
            "bar_color": null,
            "description_width": ""
          }
        },
        "a2aea1558a6a4c3f9e4d38181e13ed0d": {
          "model_module": "@jupyter-widgets/controls",
          "model_module_version": "1.5.0",
          "model_name": "HTMLModel",
          "state": {
            "_dom_classes": [],
            "_model_module": "@jupyter-widgets/controls",
            "_model_module_version": "1.5.0",
            "_model_name": "HTMLModel",
            "_view_count": null,
            "_view_module": "@jupyter-widgets/controls",
            "_view_module_version": "1.5.0",
            "_view_name": "HTMLView",
            "description": "",
            "description_tooltip": null,
            "layout": "IPY_MODEL_870c925fde5445aaaaa00eaf0a291a8d",
            "placeholder": "​",
            "style": "IPY_MODEL_c03a6420d63e408fac8d0e92cc28c8e7",
            "value": "Loading checkpoint shards: 100%"
          }
        },
        "b53d179e3fdb4ceda8bad264e0c81db8": {
          "model_module": "@jupyter-widgets/base",
          "model_module_version": "1.2.0",
          "model_name": "LayoutModel",
          "state": {
            "_model_module": "@jupyter-widgets/base",
            "_model_module_version": "1.2.0",
            "_model_name": "LayoutModel",
            "_view_count": null,
            "_view_module": "@jupyter-widgets/base",
            "_view_module_version": "1.2.0",
            "_view_name": "LayoutView",
            "align_content": null,
            "align_items": null,
            "align_self": null,
            "border": null,
            "bottom": null,
            "display": null,
            "flex": null,
            "flex_flow": null,
            "grid_area": null,
            "grid_auto_columns": null,
            "grid_auto_flow": null,
            "grid_auto_rows": null,
            "grid_column": null,
            "grid_gap": null,
            "grid_row": null,
            "grid_template_areas": null,
            "grid_template_columns": null,
            "grid_template_rows": null,
            "height": null,
            "justify_content": null,
            "justify_items": null,
            "left": null,
            "margin": null,
            "max_height": null,
            "max_width": null,
            "min_height": null,
            "min_width": null,
            "object_fit": null,
            "object_position": null,
            "order": null,
            "overflow": null,
            "overflow_x": null,
            "overflow_y": null,
            "padding": null,
            "right": null,
            "top": null,
            "visibility": null,
            "width": null
          }
        },
        "c03a6420d63e408fac8d0e92cc28c8e7": {
          "model_module": "@jupyter-widgets/controls",
          "model_module_version": "1.5.0",
          "model_name": "DescriptionStyleModel",
          "state": {
            "_model_module": "@jupyter-widgets/controls",
            "_model_module_version": "1.5.0",
            "_model_name": "DescriptionStyleModel",
            "_view_count": null,
            "_view_module": "@jupyter-widgets/base",
            "_view_module_version": "1.2.0",
            "_view_name": "StyleView",
            "description_width": ""
          }
        },
        "d834a9e4286f41a382a2c19e18190c97": {
          "model_module": "@jupyter-widgets/controls",
          "model_module_version": "1.5.0",
          "model_name": "HBoxModel",
          "state": {
            "_dom_classes": [],
            "_model_module": "@jupyter-widgets/controls",
            "_model_module_version": "1.5.0",
            "_model_name": "HBoxModel",
            "_view_count": null,
            "_view_module": "@jupyter-widgets/controls",
            "_view_module_version": "1.5.0",
            "_view_name": "HBoxView",
            "box_style": "",
            "children": [
              "IPY_MODEL_a2aea1558a6a4c3f9e4d38181e13ed0d",
              "IPY_MODEL_33e5f1b21d8041c9b4204076cc83c14b",
              "IPY_MODEL_5621abf114074fb7a0a8176d4fad8d9d"
            ],
            "layout": "IPY_MODEL_04d935039c3e4fc49433fdb81b58e988"
          }
        }
      }
    }
  },
  "nbformat": 4,
  "nbformat_minor": 5
}
